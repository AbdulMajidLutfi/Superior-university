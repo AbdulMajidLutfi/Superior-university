{
 "cells": [
  {
   "cell_type": "code",
   "execution_count": 3,
   "metadata": {},
   "outputs": [
    {
     "name": "stdout",
     "output_type": "stream",
     "text": [
      "4111111111111111 is valid.\n"
     ]
    }
   ],
   "source": [
    "card_number = \"4111111111111111\"\n",
    "def LUHN_Algorithm (card_number):\n",
    "    card_digits = [int(digit) for digit in card_number]\n",
    "    card_digits.reverse()\n",
    "    \n",
    "    total_sum = 0\n",
    "    for i, digit in enumerate(card_digits):\n",
    "        if i % 2 == 1: \n",
    "            digit *= 2\n",
    "            if digit > 9: \n",
    "                digit -= 9\n",
    "        total_sum += digit\n",
    "    return total_sum % 10 == 0\n",
    "# card_number = input(\"Enter the card number to validate: \")\n",
    "if LUHN_Algorithm (card_number):\n",
    "    print(f\"{card_number} is valid.\")\n",
    "else:\n",
    "    print(f\"{card_number} is invalid.\")\n",
    "# We also do with the user input i mention in the code but comment out the input section....."
   ]
  },
  {
   "cell_type": "markdown",
   "metadata": {},
   "source": []
  },
  {
   "cell_type": "code",
   "execution_count": 8,
   "metadata": {},
   "outputs": [
    {
     "name": "stdout",
     "output_type": "stream",
     "text": [
      "Original String:  dhdhhddhh@#$%^&*dndbnmx\n",
      "String without punctuation: dhdhhddhhdndbnmx\n"
     ]
    }
   ],
   "source": [
    "punctuations = '''!()-[]{};:'\"\\,<>./?@#$%^&*_~'''\n",
    "def remove (input_str):\n",
    "    result = \"\"\n",
    "    for char in input_str:\n",
    "        if char not in punctuations:\n",
    "            result += char \n",
    "    return result\n",
    "input_user = input(\"Enter the string text use punctuations:\")\n",
    "output = remove (input_user)\n",
    "print(\"Original String: \",input_user)\n",
    "print(\"String without punctuation:\",output)"
   ]
  },
  {
   "cell_type": "code",
   "execution_count": null,
   "metadata": {},
   "outputs": [],
   "source": [
    "words = [\"banana\", \"apple\", \"grape\", \"orange\", \"kiwi\", \"pear\"] \n",
    "for i in range (len(words)):\n",
    "    for j in range (len(words)-1):\n",
    "        if words[j] > words[j+1]:\n",
    "            words[j],words[j+1]=words[j+1],words[j]\n",
    "print(words)"
   ]
  }
 ],
 "metadata": {
  "kernelspec": {
   "display_name": "base",
   "language": "python",
   "name": "python3"
  },
  "language_info": {
   "codemirror_mode": {
    "name": "ipython",
    "version": 3
   },
   "file_extension": ".py",
   "mimetype": "text/x-python",
   "name": "python",
   "nbconvert_exporter": "python",
   "pygments_lexer": "ipython3",
   "version": "3.11.5"
  }
 },
 "nbformat": 4,
 "nbformat_minor": 2
}
