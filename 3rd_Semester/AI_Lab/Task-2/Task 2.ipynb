{
 "cells": [
  {
   "cell_type": "code",
   "execution_count": null,
   "metadata": {},
   "outputs": [],
   "source": [
    "n1 = int(input(\"Enter the number:\"))\n",
    "for i  in range (1,10):\n",
    "    if n1 %3 == 0 and n1  %5 == 0:\n",
    "        print (\"Fizz Buzz\")\n",
    "        n2 = int(input(\"Enter the number:\"))\n",
    "        n1 +=n2 \n",
    "        print (\"Update number:\",n1)\n",
    "    elif  n1 %3 == 0 :\n",
    "        print (\"Fizz\")\n",
    "        n2 = int(input(\"Enter the number:\"))\n",
    "        n1 +=n2 \n",
    "        print (\"Update number:\",n1)\n",
    "    elif  n1 %5 == 0 :\n",
    "        print (\"Buzz\")\n",
    "        n2 = int(input(\"Enter the number:\"))\n",
    "        n1 +=n2\n",
    "        print (\"Update number:\",n1)\n",
    "    else :\n",
    "        print (\"\")\n",
    "        n2 = int(input(\"Enter the number:\"))\n",
    "    "
   ]
  },
  {
   "cell_type": "code",
   "execution_count": null,
   "metadata": {},
   "outputs": [],
   "source": [
    "import csv\n",
    "movies = [\n",
    "    (\"Eternal Sunshine of the Spotless Mind\", 2000000),\n",
    "    (\"Memento\", 9000000),\n",
    "    (\"Requiem for a Dream\", 4500000),\n",
    "    (\"Pirates of the Caribbean: On Stranger Tides\", 379000000),\n",
    "    (\"Avengers: Age of Ultron\", 365000000),\n",
    "    (\"Avengers: Endgame\", 356000000),\n",
    "    (\"Incredibles 2\", 200000000),\n",
    "]\n",
    "\n",
    "filename = 'movies.csv'\n",
    "with open(filename, mode='w', newline='') as file:\n",
    "    writer = csv.writer(file)\n",
    "    writer.writerow([\"Movie Title\", \"Budget\"])\n",
    "    writer.writerows(movies)\n",
    "print(f\"Data has been written to {filename}\")"
   ]
  },
  {
   "cell_type": "code",
   "execution_count": null,
   "metadata": {},
   "outputs": [],
   "source": [
    "df = pd.read_csv('movies.csv')\n",
    "budgets = pd.to_numeric(df['Budget'])\n",
    "average_budget = budgets.mean()\n",
    "print(f\"The average budget of the movies is: {average_budget:}\")\n"
   ]
  },
  {
   "cell_type": "code",
   "execution_count": null,
   "metadata": {},
   "outputs": [],
   "source": [
    "total_budget = sum(budget for title, budget in movies)\n",
    "average_budget = total_budget / len(movies)\n",
    "print(f\"Movies with a budget higher than the average budget ({average_budget:}):\\n\")\n",
    "for title, Budget in movies:\n",
    "    if Budget > average_budget:\n",
    "        print(f\"{title} (Budget:{Budget:})\")\n"
   ]
  },
  {
   "cell_type": "code",
   "execution_count": null,
   "metadata": {},
   "outputs": [],
   "source": [
    "for title, budget in movies:\n",
    "    if budget > average_budget:\n",
    "        difference = budget - average_budget\n",
    "        print(f\"{title} - {difference:} higher than the average\")"
   ]
  },
  {
   "cell_type": "code",
   "execution_count": null,
   "metadata": {},
   "outputs": [],
   "source": [
    "total_budget = sum(budget for _, budget in movies)\n",
    "average_budget = total_budget / len(movies)\n",
    "count_above_average = sum(1 for _, budget in movies if budget >average_budget)\n",
    "print(f\"Average budget: {average_budget:}\")\n",
    "print(f\"Number of movies with a budget higher than the average: {count_above_average}\")"
   ]
  }
 ],
 "metadata": {
  "language_info": {
   "name": "python"
  }
 },
 "nbformat": 4,
 "nbformat_minor": 2
}
