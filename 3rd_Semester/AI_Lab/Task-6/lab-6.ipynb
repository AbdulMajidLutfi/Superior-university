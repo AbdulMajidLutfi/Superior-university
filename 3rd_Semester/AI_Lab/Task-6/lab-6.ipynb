{
 "cells": [
  {
   "cell_type": "code",
   "execution_count": 1,
   "metadata": {},
   "outputs": [
    {
     "name": "stdout",
     "output_type": "stream",
     "text": [
      "A  B  C  D  E  F  G  "
     ]
    }
   ],
   "source": [
    "tree = {\n",
    "    'A' : ['B', 'C'],\n",
    "    'B' : ['D', 'E'],\n",
    "    'C' : ['F', 'G'],\n",
    "    'D' : [],\n",
    "    'E' : [],\n",
    "    'F' : [],\n",
    "    'G' : [],\n",
    "}\n",
    "visited = list()\n",
    "def bfs (tree,nodes,goal):\n",
    "    if not nodes:\n",
    "        return\n",
    "    next_ = []\n",
    "    for node in nodes: \n",
    "        if node not in visited:\n",
    "            print(node, end = \"  \")\n",
    "            visited.append (node)\n",
    "            if node == goal:\n",
    "                return \n",
    "        for i in tree[node]:\n",
    "            if i not in visited:\n",
    "                next_.append(i)\n",
    "        \n",
    "    bfs(tree,next_,goal)\n",
    "bfs(tree,['A'],'G')"
   ]
  },
  {
   "cell_type": "code",
   "execution_count": 5,
   "metadata": {},
   "outputs": [
    {
     "name": "stdout",
     "output_type": "stream",
     "text": [
      "A  B  C  D  E  F  G  "
     ]
    }
   ],
   "source": [
    "from collections import deque\n",
    "class Node :\n",
    "    def __init__(self,data):\n",
    "        self.data = data \n",
    "        self.children = []\n",
    "    def add_children (self, node):\n",
    "        self.children.append(node)\n",
    "def bfs (start_node):\n",
    "    visited = set()\n",
    "    queue = deque([start_node])\n",
    "    while queue:\n",
    "        current_node = queue.popleft()\n",
    "        if current_node not in visited :\n",
    "            print (current_node.data ,end = \"  \")\n",
    "            visited.add(current_node) \n",
    "            for neighbor in current_node.children:\n",
    "                if neighbor not in visited:\n",
    "                    queue.append(neighbor)\n",
    "node_A = Node(\"A\")\n",
    "node_B = Node(\"B\")\n",
    "node_C = Node(\"C\")\n",
    "node_D = Node(\"D\")\n",
    "node_E = Node(\"E\")\n",
    "node_F = Node(\"F\")\n",
    "node_G = Node(\"G\")\n",
    "\n",
    "node_A.add_children(node_B)\n",
    "node_A.add_children(node_C)\n",
    "node_B.add_children(node_D)\n",
    "node_B.add_children(node_E)\n",
    "node_C.add_children(node_F)\n",
    "node_C.add_children(node_G)\n",
    "bfs(node_A)"
   ]
  },
  {
   "cell_type": "code",
   "execution_count": null,
   "metadata": {},
   "outputs": [],
   "source": []
  }
 ],
 "metadata": {
  "kernelspec": {
   "display_name": "base",
   "language": "python",
   "name": "python3"
  },
  "language_info": {
   "codemirror_mode": {
    "name": "ipython",
    "version": 3
   },
   "file_extension": ".py",
   "mimetype": "text/x-python",
   "name": "python",
   "nbconvert_exporter": "python",
   "pygments_lexer": "ipython3",
   "version": "3.11.5"
  }
 },
 "nbformat": 4,
 "nbformat_minor": 2
}
