{
 "cells": [
  {
   "cell_type": "code",
   "execution_count": 1,
   "metadata": {},
   "outputs": [
    {
     "name": "stdout",
     "output_type": "stream",
     "text": [
      "A  B  D  E  C  F  G  \n"
     ]
    }
   ],
   "source": [
    "class Node:\n",
    "    def __init__(self, value):\n",
    "        self.value = value \n",
    "        self.adjacents = []  \n",
    "nodeA = Node('A')\n",
    "nodeB = Node('B')\n",
    "nodeC = Node('C')\n",
    "nodeD = Node('D')\n",
    "nodeE = Node('E')\n",
    "nodeF = Node('F')\n",
    "nodeG = Node('G')\n",
    "\n",
    "\n",
    "def dfs_with_stack(start_node):\n",
    "    visited = list()  \n",
    "    stack = [start_node]  \n",
    "    while stack:\n",
    "        current_node = stack.pop()  \n",
    "        if current_node not in visited:     \n",
    "            print(current_node.value ,end = \"  \")  \n",
    "            visited.append(current_node)  \n",
    "            for neighbor in reversed(current_node.adjacents):\n",
    "                if neighbor not in visited:\n",
    "                    stack.append(neighbor)\n",
    "nodeA.adjacents = [nodeB, nodeC]\n",
    "nodeB.adjacents = [nodeD, nodeE]\n",
    "nodeC.adjacents = [nodeF, nodeG]\n",
    "dfs_with_stack(nodeA)\n",
    "print()"
   ]
  },
  {
   "cell_type": "code",
   "execution_count": null,
   "metadata": {},
   "outputs": [],
   "source": []
  }
 ],
 "metadata": {
  "kernelspec": {
   "display_name": "base",
   "language": "python",
   "name": "python3"
  },
  "language_info": {
   "codemirror_mode": {
    "name": "ipython",
    "version": 3
   },
   "file_extension": ".py",
   "mimetype": "text/x-python",
   "name": "python",
   "nbconvert_exporter": "python",
   "pygments_lexer": "ipython3",
   "version": "3.11.5"
  }
 },
 "nbformat": 4,
 "nbformat_minor": 2
}
