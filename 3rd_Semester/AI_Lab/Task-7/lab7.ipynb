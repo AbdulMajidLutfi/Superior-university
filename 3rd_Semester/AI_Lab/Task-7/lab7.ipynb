{
 "cells": [
  {
   "cell_type": "code",
   "execution_count": 23,
   "metadata": {},
   "outputs": [],
   "source": [
    "import math"
   ]
  },
  {
   "cell_type": "code",
   "execution_count": 25,
   "metadata": {},
   "outputs": [
    {
     "name": "stdout",
     "output_type": "stream",
     "text": [
      "['A', 'B', 'D', 'F']\n"
     ]
    }
   ],
   "source": [
    "def heuristic_cost_estimate(a, b):\n",
    "    return 10\n",
    "def distance_between(a, b):\n",
    "    return graph[a][b]\n",
    "def A_star(graph, start, goal):\n",
    "    open_set = set([start])\n",
    "    closed_set = set()\n",
    "    g_score = {node: float(\"infinity\")for node in graph}\n",
    "    g_score[start] =0\n",
    "    f_score = {node: float(\"infinity\") for node in graph}\n",
    "    f_score[start] = heuristic_cost_estimate(start, goal)\n",
    "    came_from = {}\n",
    "    while open_set:\n",
    "        current = min(open_set,key=lambda node: f_score[node])\n",
    "        if current == goal:\n",
    "            return reconstruct_path(came_from, current)\n",
    "        open_set.remove(current)\n",
    "        closed_set.add(current)\n",
    "        for neighbor, cost in graph[current].items():\n",
    "            tentative_g_score = g_score[current] + cost\n",
    "            if neighbor not in open_set and neighbor not in closed_set:\n",
    "                open_set.add(neighbor)\n",
    "                came_from[neighbor] = current\n",
    "                g_score[neighbor] = tentative_g_score\n",
    "                f_score[neighbor] =g_score[neighbor] + heuristic_cost_estimate(neighbor, goal)\n",
    "            elif tentative_g_score < g_score[neighbor]:\n",
    "                came_from[neighbor] =current\n",
    "                g_score[neighbor]=tentative_g_score\n",
    "                f_score[neighbor]=g_score[neighbor] + heuristic_cost_estimate(neighbor, goal)\n",
    "    return None\n",
    "def reconstruct_path(came_from, current_node):\n",
    "    path = [current_node]\n",
    "    while current_node in came_from:\n",
    "        current_node = came_from[current_node]\n",
    "        path.append(current_node)\n",
    "    path.reverse()\n",
    "    return path\n",
    "graph = {\n",
    "    'A': {'B': 1, 'C': 3},\n",
    "    'B': {'A': 1, 'D': 2},\n",
    "    'C': {'A': 3, 'D': 2, 'E': 3},\n",
    "    'D': {'B': 2, 'C': 2, 'E': 3, 'F': 4},\n",
    "    'E': {'C': 3, 'D': 3, 'F': 1},\n",
    "    'F': {'D': 4, 'E': 1}\n",
    "}\n",
    "start = 'A'\n",
    "goal = 'F'\n",
    "path = A_star(graph, start, goal)\n",
    "print(path)"
   ]
  },
  {
   "cell_type": "code",
   "execution_count": null,
   "metadata": {},
   "outputs": [],
   "source": []
  }
 ],
 "metadata": {
  "kernelspec": {
   "display_name": "base",
   "language": "python",
   "name": "python3"
  },
  "language_info": {
   "codemirror_mode": {
    "name": "ipython",
    "version": 3
   },
   "file_extension": ".py",
   "mimetype": "text/x-python",
   "name": "python",
   "nbconvert_exporter": "python",
   "pygments_lexer": "ipython3",
   "version": "3.11.5"
  }
 },
 "nbformat": 4,
 "nbformat_minor": 2
}
