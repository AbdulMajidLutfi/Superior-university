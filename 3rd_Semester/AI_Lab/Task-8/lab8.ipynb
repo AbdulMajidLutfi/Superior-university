{
 "cells": [
  {
   "cell_type": "code",
   "execution_count": 1,
   "metadata": {},
   "outputs": [
    {
     "name": "stdout",
     "output_type": "stream",
     "text": [
      "The optimal value is : 10\n",
      "3.0\n"
     ]
    }
   ],
   "source": [
    "import math\n",
    "def minimax (curDepth, nodeIndex,maxTurn, scores, targetDepth):\n",
    "    if (curDepth == targetDepth): \n",
    "        return scores[nodeIndex] \n",
    "    if (maxTurn):\n",
    "        return max(minimax(curDepth + 1, nodeIndex * 2, False, scores, targetDepth), \n",
    "                   minimax(curDepth + 1, nodeIndex * 2 + 1,False, scores, targetDepth))\n",
    "    else:\n",
    "        return min(minimax(curDepth + 1, nodeIndex * 2, True, scores, targetDepth), \n",
    "                   minimax(curDepth + 1, nodeIndex * 2 + 1, True, scores, targetDepth))     \n",
    "scores = [3, 5, 2, 9, 10, 5, 7, 19]\n",
    "treeDepth = math.log(len(scores), 2)\n",
    "print(\"The optimal value is : \", end = \"\")\n",
    "print(minimax(0, 0, True, scores, treeDepth))\n",
    "print(treeDepth)"
   ]
  },
  {
   "cell_type": "code",
   "execution_count": null,
   "metadata": {},
   "outputs": [],
   "source": []
  }
 ],
 "metadata": {
  "kernelspec": {
   "display_name": "base",
   "language": "python",
   "name": "python3"
  },
  "language_info": {
   "codemirror_mode": {
    "name": "ipython",
    "version": 3
   },
   "file_extension": ".py",
   "mimetype": "text/x-python",
   "name": "python",
   "nbconvert_exporter": "python",
   "pygments_lexer": "ipython3",
   "version": "3.11.5"
  }
 },
 "nbformat": 4,
 "nbformat_minor": 2
}
