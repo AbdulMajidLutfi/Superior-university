{
 "cells": [
  {
   "cell_type": "markdown",
   "metadata": {},
   "source": [
    "rule of n queen problem .....\n",
    "1.No Two Queens in the Same Row\n",
    "2.No Two Queens in the Same Column\n",
    "3.All Queens Must Be Placed"
   ]
  },
  {
   "cell_type": "code",
   "execution_count": 16,
   "metadata": {},
   "outputs": [
    {
     "name": "stdout",
     "output_type": "stream",
     "text": [
      "Found 4 solutions for 6-Queens problem:\n",
      "Solution 1:\n",
      "* Q * * * *\n",
      "* * * Q * *\n",
      "* * * * * Q\n",
      "Q * * * * *\n",
      "* * Q * * *\n",
      "* * * * Q *\n",
      "\n",
      "Solution 2:\n",
      "* * Q * * *\n",
      "* * * * * Q\n",
      "* Q * * * *\n",
      "* * * * Q *\n",
      "Q * * * * *\n",
      "* * * Q * *\n",
      "\n",
      "Solution 3:\n",
      "* * * Q * *\n",
      "Q * * * * *\n",
      "* * * * Q *\n",
      "* Q * * * *\n",
      "* * * * * Q\n",
      "* * Q * * *\n",
      "\n",
      "Solution 4:\n",
      "* * * * Q *\n",
      "* * Q * * *\n",
      "Q * * * * *\n",
      "* * * * * Q\n",
      "* * * Q * *\n",
      "* Q * * * *\n",
      "\n"
     ]
    }
   ],
   "source": [
    "\n",
    "# 1 we need to recall the N-Queens problem.\n",
    "# jo goal ho ga wo  place ho ga  N queens on an N×N chessboard to koi bhi two queens attack nhi ho gi each other.\n",
    "# is ka matlab koi 1 queen must be in a unique row, column, and diagonal.\n",
    "def n_queens(n):\n",
    "    def backtrack(row,cols,diag1,diag2,positions):\n",
    "        if row == n:\n",
    "            solutions.append(positions.copy())\n",
    "            return\n",
    "        for col in range(n):\n",
    "            d1 = row - col\n",
    "            d2 = row + col\n",
    "            if col in cols or d1 in diag1 or d2 in diag2:\n",
    "                continue\n",
    "            cols.add(col)\n",
    "            diag1.add(d1)\n",
    "            diag2.add(d2)\n",
    "            positions.append(col)\n",
    "            backtrack(row + 1,cols,diag1,diag2,positions)\n",
    "            positions.pop()\n",
    "            diag2.remove(d2)\n",
    "            diag1.remove(d1)\n",
    "            cols.remove(col)\n",
    "    solutions = []\n",
    "    backtrack(0, set(),set(),set(),[])\n",
    "    result = []\n",
    "    for sol in solutions:\n",
    "        board = []\n",
    "        for col in sol:\n",
    "            row_str = ['*'] * n\n",
    "            row_str[col] = 'Q'\n",
    "            board.append(' '.join(row_str))\n",
    "        result.append(board)\n",
    "    return result\n",
    "def main():\n",
    "    n = int(input(\"Enter order of chess:\"))\n",
    "    all_solutions = n_queens(n)\n",
    "    print(f\"Found {len(all_solutions)} solutions for {n}-Queens problem:\")\n",
    "    for idx, solution in enumerate(all_solutions,1):\n",
    "        print(f\"Solution {idx}:\")\n",
    "        for row in solution:\n",
    "            print(row)\n",
    "        print()\n",
    "main()"
   ]
  },
  {
   "cell_type": "code",
   "execution_count": null,
   "metadata": {},
   "outputs": [],
   "source": []
  }
 ],
 "metadata": {
  "kernelspec": {
   "display_name": "base",
   "language": "python",
   "name": "python3"
  },
  "language_info": {
   "codemirror_mode": {
    "name": "ipython",
    "version": 3
   },
   "file_extension": ".py",
   "mimetype": "text/x-python",
   "name": "python",
   "nbconvert_exporter": "python",
   "pygments_lexer": "ipython3",
   "version": "3.11.5"
  }
 },
 "nbformat": 4,
 "nbformat_minor": 2
}
