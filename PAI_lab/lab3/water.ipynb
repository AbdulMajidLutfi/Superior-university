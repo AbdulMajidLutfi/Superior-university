{
 "cells": [
  {
   "cell_type": "code",
   "execution_count": 1,
   "metadata": {},
   "outputs": [
    {
     "name": "stdout",
     "output_type": "stream",
     "text": [
      "Solution Done:\n",
      "Fill Jug B to (0,3)\n",
      "Pour from Jug B to Jug A to (3,0)\n",
      "Fill Jug B to (3,3)\n",
      "Pour from Jug B to Jug A to (4,2)\n",
      "Final State: (4,2)\n"
     ]
    }
   ],
   "source": [
    "def water_jug_dfs(M,A,T):\n",
    "    visited = set()\n",
    "    stack = [(0, 0, [])]  \n",
    "    while stack:\n",
    "        m,b, path = stack.pop()\n",
    "        if m == T or b == T:\n",
    "            print(\"Solution Done:\")\n",
    "            for step in path:\n",
    "                print(step)\n",
    "            print(f\"Final State: ({m},{b})\")\n",
    "            return\n",
    "        if (m, b) in visited:\n",
    "            continue\n",
    "        visited.add((m,b))\n",
    "        stack.append((M,b,path +[f\"Fill Jug A to ({A},{b})\"]))\n",
    "        stack.append((m,A,path + [f\"Fill Jug B to ({m},{A})\"]))\n",
    "        stack.append((0,b,path + [f\"Empty Jug A to (0,{b})\"]))\n",
    "        stack.append((m, 0, path + [f\"Empty Jug B to ({m}, 0)\"]))\n",
    "        pour_amount = min(m, M - b)\n",
    "        stack.append((m - pour_amount, b + pour_amount, path + [f\"Pour from Jug A to Jug B to ({m - pour_amount},{b + pour_amount})\"]))\n",
    "        pour_amount = min(b, M - m)\n",
    "        stack.append((m + pour_amount, b - pour_amount, path + [f\"Pour from Jug B to Jug A to ({m + pour_amount},{b - pour_amount})\"]))\n",
    "\n",
    "    print(\" solution Not found.\")\n",
    "M = 4  \n",
    "A = 3  \n",
    "T = 2 \n",
    "water_jug_dfs(M, A, T)"
   ]
  },
  {
   "cell_type": "code",
   "execution_count": null,
   "metadata": {},
   "outputs": [],
   "source": []
  }
 ],
 "metadata": {
  "kernelspec": {
   "display_name": "base",
   "language": "python",
   "name": "python3"
  },
  "language_info": {
   "name": "python",
   "version": "3.11.5"
  }
 },
 "nbformat": 4,
 "nbformat_minor": 2
}
